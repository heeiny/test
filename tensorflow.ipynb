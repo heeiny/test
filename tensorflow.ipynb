{
 "cells": [
  {
   "cell_type": "code",
   "execution_count": 1,
   "id": "2d519c30",
   "metadata": {
    "ExecuteTime": {
     "end_time": "2022-08-02T00:43:46.742485Z",
     "start_time": "2022-08-02T00:43:09.897585Z"
    }
   },
   "outputs": [],
   "source": [
    "import tensorflow as tf"
   ]
  },
  {
   "cell_type": "code",
   "execution_count": 3,
   "id": "b4332bf0",
   "metadata": {
    "ExecuteTime": {
     "end_time": "2022-08-02T01:21:46.092710Z",
     "start_time": "2022-08-02T01:21:46.069073Z"
    }
   },
   "outputs": [],
   "source": [
    "# 딥러닝을 구동하는데 필요한 케라스 함수를 불러옵니다\n",
    "from tensorflow.keras.models import Sequential\n",
    "from tensorflow.keras.layers import Dense\n",
    "\n",
    "# 필요한 라이브러리를 불러옵니다.\n",
    "import numpy as np\n",
    "import tensorflow as tf\n"
   ]
  },
  {
   "cell_type": "code",
   "execution_count": 9,
   "id": "a71e4cab",
   "metadata": {
    "ExecuteTime": {
     "end_time": "2022-08-02T01:23:09.248010Z",
     "start_time": "2022-08-02T01:23:09.231487Z"
    }
   },
   "outputs": [],
   "source": [
    "# 실행할 때마다 같은 결과를 출력하기 위해 설정하는 부분\n",
    "np.random.seed(3)\n",
    "tf.random.set_seed(3)"
   ]
  },
  {
   "cell_type": "code",
   "execution_count": 16,
   "id": "a12f59ed",
   "metadata": {
    "ExecuteTime": {
     "end_time": "2022-08-02T01:25:15.215234Z",
     "start_time": "2022-08-02T01:25:15.185005Z"
    }
   },
   "outputs": [],
   "source": [
    "# 준비된 수술 환자 데이터를 불러들입니다.\n",
    "Data_set = np.loadtxt(\"ThoraricSurgery.csv\", delimiter=\",\")"
   ]
  },
  {
   "cell_type": "code",
   "execution_count": 26,
   "id": "5c95330b",
   "metadata": {
    "ExecuteTime": {
     "end_time": "2022-08-02T01:48:09.275954Z",
     "start_time": "2022-08-02T01:47:50.314728Z"
    }
   },
   "outputs": [
    {
     "name": "stdout",
     "output_type": "stream",
     "text": [
      "Epoch 1/100\n",
      "47/47 [==============================] - 1s 2ms/step - loss: 11.0322 - accuracy: 0.8447\n",
      "Epoch 2/100\n",
      "47/47 [==============================] - 0s 2ms/step - loss: 2.6121 - accuracy: 0.6851\n",
      "Epoch 3/100\n",
      "47/47 [==============================] - 0s 2ms/step - loss: 0.8730 - accuracy: 0.7511\n",
      "Epoch 4/100\n",
      "47/47 [==============================] - 0s 2ms/step - loss: 0.6148 - accuracy: 0.7957\n",
      "Epoch 5/100\n",
      "47/47 [==============================] - 0s 3ms/step - loss: 0.5168 - accuracy: 0.8191\n",
      "Epoch 6/100\n",
      "47/47 [==============================] - 0s 4ms/step - loss: 0.4708 - accuracy: 0.8404\n",
      "Epoch 7/100\n",
      "47/47 [==============================] - 0s 2ms/step - loss: 0.4785 - accuracy: 0.8404\n",
      "Epoch 8/100\n",
      "47/47 [==============================] - 0s 3ms/step - loss: 0.4750 - accuracy: 0.8447\n",
      "Epoch 9/100\n",
      "47/47 [==============================] - 0s 3ms/step - loss: 0.4318 - accuracy: 0.8468\n",
      "Epoch 10/100\n",
      "47/47 [==============================] - 0s 3ms/step - loss: 0.4578 - accuracy: 0.8468\n",
      "Epoch 11/100\n",
      "47/47 [==============================] - 0s 3ms/step - loss: 0.4571 - accuracy: 0.8447\n",
      "Epoch 12/100\n",
      "47/47 [==============================] - 0s 2ms/step - loss: 0.4779 - accuracy: 0.8447\n",
      "Epoch 13/100\n",
      "47/47 [==============================] - 0s 2ms/step - loss: 0.4589 - accuracy: 0.8319\n",
      "Epoch 14/100\n",
      "47/47 [==============================] - 0s 6ms/step - loss: 0.4972 - accuracy: 0.8298\n",
      "Epoch 15/100\n",
      "47/47 [==============================] - 0s 6ms/step - loss: 0.4416 - accuracy: 0.8489\n",
      "Epoch 16/100\n",
      "47/47 [==============================] - 0s 6ms/step - loss: 0.4521 - accuracy: 0.8383\n",
      "Epoch 17/100\n",
      "47/47 [==============================] - 0s 5ms/step - loss: 0.4402 - accuracy: 0.8362\n",
      "Epoch 18/100\n",
      "47/47 [==============================] - 0s 2ms/step - loss: 0.4718 - accuracy: 0.8383\n",
      "Epoch 19/100\n",
      "47/47 [==============================] - 0s 3ms/step - loss: 0.4495 - accuracy: 0.8362\n",
      "Epoch 20/100\n",
      "47/47 [==============================] - 0s 2ms/step - loss: 0.4423 - accuracy: 0.8404\n",
      "Epoch 21/100\n",
      "47/47 [==============================] - 0s 3ms/step - loss: 0.4255 - accuracy: 0.8447\n",
      "Epoch 22/100\n",
      "47/47 [==============================] - 0s 6ms/step - loss: 0.4481 - accuracy: 0.8404\n",
      "Epoch 23/100\n",
      "47/47 [==============================] - 0s 6ms/step - loss: 0.4172 - accuracy: 0.8468\n",
      "Epoch 24/100\n",
      "47/47 [==============================] - 0s 4ms/step - loss: 0.4992 - accuracy: 0.8191\n",
      "Epoch 25/100\n",
      "47/47 [==============================] - 0s 2ms/step - loss: 0.4536 - accuracy: 0.8426\n",
      "Epoch 26/100\n",
      "47/47 [==============================] - 0s 3ms/step - loss: 0.4647 - accuracy: 0.8404\n",
      "Epoch 27/100\n",
      "47/47 [==============================] - 0s 3ms/step - loss: 0.5196 - accuracy: 0.8277\n",
      "Epoch 28/100\n",
      "47/47 [==============================] - 0s 3ms/step - loss: 0.4295 - accuracy: 0.8447\n",
      "Epoch 29/100\n",
      "47/47 [==============================] - 0s 3ms/step - loss: 0.4647 - accuracy: 0.8298\n",
      "Epoch 30/100\n",
      "47/47 [==============================] - 0s 3ms/step - loss: 0.4100 - accuracy: 0.8468\n",
      "Epoch 31/100\n",
      "47/47 [==============================] - 0s 4ms/step - loss: 0.4685 - accuracy: 0.8319\n",
      "Epoch 32/100\n",
      "47/47 [==============================] - 0s 3ms/step - loss: 0.4210 - accuracy: 0.8468\n",
      "Epoch 33/100\n",
      "47/47 [==============================] - 0s 2ms/step - loss: 0.4690 - accuracy: 0.8340\n",
      "Epoch 34/100\n",
      "47/47 [==============================] - 0s 2ms/step - loss: 0.4113 - accuracy: 0.8447\n",
      "Epoch 35/100\n",
      "47/47 [==============================] - 0s 2ms/step - loss: 0.4445 - accuracy: 0.8404\n",
      "Epoch 36/100\n",
      "47/47 [==============================] - 0s 3ms/step - loss: 0.4407 - accuracy: 0.8404\n",
      "Epoch 37/100\n",
      "47/47 [==============================] - 0s 3ms/step - loss: 0.4868 - accuracy: 0.8298\n",
      "Epoch 38/100\n",
      "47/47 [==============================] - 0s 4ms/step - loss: 0.4532 - accuracy: 0.8234\n",
      "Epoch 39/100\n",
      "47/47 [==============================] - 0s 3ms/step - loss: 0.4261 - accuracy: 0.8553\n",
      "Epoch 40/100\n",
      "47/47 [==============================] - 0s 2ms/step - loss: 0.4189 - accuracy: 0.8511\n",
      "Epoch 41/100\n",
      "47/47 [==============================] - 0s 4ms/step - loss: 0.4238 - accuracy: 0.8489\n",
      "Epoch 42/100\n",
      "47/47 [==============================] - 0s 5ms/step - loss: 0.5128 - accuracy: 0.8340\n",
      "Epoch 43/100\n",
      "47/47 [==============================] - 0s 3ms/step - loss: 0.4329 - accuracy: 0.8404\n",
      "Epoch 44/100\n",
      "47/47 [==============================] - 0s 3ms/step - loss: 0.4135 - accuracy: 0.8362\n",
      "Epoch 45/100\n",
      "47/47 [==============================] - 0s 4ms/step - loss: 0.4246 - accuracy: 0.8489\n",
      "Epoch 46/100\n",
      "47/47 [==============================] - 0s 6ms/step - loss: 0.4084 - accuracy: 0.8489\n",
      "Epoch 47/100\n",
      "47/47 [==============================] - 0s 6ms/step - loss: 0.4495 - accuracy: 0.8234\n",
      "Epoch 48/100\n",
      "47/47 [==============================] - 0s 6ms/step - loss: 0.4199 - accuracy: 0.8468\n",
      "Epoch 49/100\n",
      "47/47 [==============================] - 0s 2ms/step - loss: 0.4117 - accuracy: 0.8362\n",
      "Epoch 50/100\n",
      "47/47 [==============================] - 0s 3ms/step - loss: 0.4047 - accuracy: 0.8426\n",
      "Epoch 51/100\n",
      "47/47 [==============================] - 0s 4ms/step - loss: 0.4077 - accuracy: 0.8532\n",
      "Epoch 52/100\n",
      "47/47 [==============================] - 0s 4ms/step - loss: 0.4123 - accuracy: 0.8468\n",
      "Epoch 53/100\n",
      "47/47 [==============================] - 0s 4ms/step - loss: 0.4147 - accuracy: 0.8404\n",
      "Epoch 54/100\n",
      "47/47 [==============================] - 0s 4ms/step - loss: 0.4044 - accuracy: 0.8489\n",
      "Epoch 55/100\n",
      "47/47 [==============================] - 0s 3ms/step - loss: 0.4216 - accuracy: 0.8489\n",
      "Epoch 56/100\n",
      "47/47 [==============================] - 0s 2ms/step - loss: 0.4242 - accuracy: 0.8447\n",
      "Epoch 57/100\n",
      "47/47 [==============================] - 0s 2ms/step - loss: 0.4148 - accuracy: 0.8426\n",
      "Epoch 58/100\n",
      "47/47 [==============================] - 0s 3ms/step - loss: 0.4406 - accuracy: 0.8426\n",
      "Epoch 59/100\n",
      "47/47 [==============================] - 0s 5ms/step - loss: 0.4119 - accuracy: 0.8468\n",
      "Epoch 60/100\n",
      "47/47 [==============================] - 0s 6ms/step - loss: 0.3942 - accuracy: 0.8553\n",
      "Epoch 61/100\n",
      "47/47 [==============================] - 0s 6ms/step - loss: 0.4089 - accuracy: 0.8553\n",
      "Epoch 62/100\n",
      "47/47 [==============================] - 0s 6ms/step - loss: 0.4037 - accuracy: 0.8511\n",
      "Epoch 63/100\n",
      "47/47 [==============================] - 0s 6ms/step - loss: 0.4247 - accuracy: 0.8489\n",
      "Epoch 64/100\n",
      "47/47 [==============================] - 0s 4ms/step - loss: 0.4645 - accuracy: 0.8340\n",
      "Epoch 65/100\n",
      "47/47 [==============================] - 0s 3ms/step - loss: 0.3990 - accuracy: 0.8511\n",
      "Epoch 66/100\n",
      "47/47 [==============================] - 0s 4ms/step - loss: 0.4353 - accuracy: 0.8340\n",
      "Epoch 67/100\n",
      "47/47 [==============================] - 0s 4ms/step - loss: 0.4008 - accuracy: 0.8511\n",
      "Epoch 68/100\n",
      "47/47 [==============================] - 0s 4ms/step - loss: 0.4117 - accuracy: 0.8553\n",
      "Epoch 69/100\n",
      "47/47 [==============================] - 0s 4ms/step - loss: 0.4373 - accuracy: 0.8362\n",
      "Epoch 70/100\n",
      "47/47 [==============================] - 0s 5ms/step - loss: 0.4245 - accuracy: 0.8447\n",
      "Epoch 71/100\n",
      "47/47 [==============================] - 0s 6ms/step - loss: 0.3865 - accuracy: 0.8532\n",
      "Epoch 72/100\n",
      "47/47 [==============================] - 0s 6ms/step - loss: 0.4281 - accuracy: 0.8383\n",
      "Epoch 73/100\n",
      "47/47 [==============================] - 0s 6ms/step - loss: 0.5072 - accuracy: 0.8489\n",
      "Epoch 74/100\n",
      "47/47 [==============================] - 0s 6ms/step - loss: 0.4016 - accuracy: 0.8553\n",
      "Epoch 75/100\n",
      "47/47 [==============================] - 0s 6ms/step - loss: 0.4009 - accuracy: 0.8574\n",
      "Epoch 76/100\n",
      "47/47 [==============================] - 0s 6ms/step - loss: 0.4465 - accuracy: 0.8447\n",
      "Epoch 77/100\n",
      "47/47 [==============================] - 0s 4ms/step - loss: 0.3980 - accuracy: 0.8426\n",
      "Epoch 78/100\n",
      "47/47 [==============================] - 0s 2ms/step - loss: 0.4427 - accuracy: 0.8596\n",
      "Epoch 79/100\n",
      "47/47 [==============================] - 0s 4ms/step - loss: 0.4120 - accuracy: 0.8383\n",
      "Epoch 80/100\n",
      "47/47 [==============================] - 0s 5ms/step - loss: 0.4079 - accuracy: 0.8468\n",
      "Epoch 81/100\n",
      "47/47 [==============================] - 0s 2ms/step - loss: 0.4871 - accuracy: 0.8468\n",
      "Epoch 82/100\n",
      "47/47 [==============================] - 0s 2ms/step - loss: 0.4870 - accuracy: 0.8511\n",
      "Epoch 83/100\n"
     ]
    },
    {
     "name": "stdout",
     "output_type": "stream",
     "text": [
      "47/47 [==============================] - 0s 3ms/step - loss: 0.4392 - accuracy: 0.8511\n",
      "Epoch 84/100\n",
      "47/47 [==============================] - 0s 7ms/step - loss: 0.4069 - accuracy: 0.8468\n",
      "Epoch 85/100\n",
      "47/47 [==============================] - 0s 4ms/step - loss: 0.4052 - accuracy: 0.8574\n",
      "Epoch 86/100\n",
      "47/47 [==============================] - 0s 5ms/step - loss: 0.3963 - accuracy: 0.8489\n",
      "Epoch 87/100\n",
      "47/47 [==============================] - 0s 4ms/step - loss: 0.4295 - accuracy: 0.8383\n",
      "Epoch 88/100\n",
      "47/47 [==============================] - 0s 3ms/step - loss: 0.3899 - accuracy: 0.8553\n",
      "Epoch 89/100\n",
      "47/47 [==============================] - 0s 3ms/step - loss: 0.3942 - accuracy: 0.8426\n",
      "Epoch 90/100\n",
      "47/47 [==============================] - 0s 2ms/step - loss: 0.4163 - accuracy: 0.8553\n",
      "Epoch 91/100\n",
      "47/47 [==============================] - 0s 2ms/step - loss: 0.4733 - accuracy: 0.8404\n",
      "Epoch 92/100\n",
      "47/47 [==============================] - 0s 2ms/step - loss: 0.4174 - accuracy: 0.8511\n",
      "Epoch 93/100\n",
      "47/47 [==============================] - 0s 2ms/step - loss: 0.4529 - accuracy: 0.8383\n",
      "Epoch 94/100\n",
      "47/47 [==============================] - 0s 2ms/step - loss: 0.4299 - accuracy: 0.8468\n",
      "Epoch 95/100\n",
      "47/47 [==============================] - 0s 2ms/step - loss: 0.3930 - accuracy: 0.8532\n",
      "Epoch 96/100\n",
      "47/47 [==============================] - 0s 2ms/step - loss: 0.5014 - accuracy: 0.8319\n",
      "Epoch 97/100\n",
      "47/47 [==============================] - 0s 4ms/step - loss: 0.4480 - accuracy: 0.8255\n",
      "Epoch 98/100\n",
      "47/47 [==============================] - 0s 5ms/step - loss: 0.4296 - accuracy: 0.8426\n",
      "Epoch 99/100\n",
      "47/47 [==============================] - 0s 5ms/step - loss: 0.4617 - accuracy: 0.8489\n",
      "Epoch 100/100\n",
      "47/47 [==============================] - 0s 5ms/step - loss: 0.4143 - accuracy: 0.8362\n"
     ]
    }
   ],
   "source": [
    "# 환자의 기록과 수술 결과를 X와 Y를 구분하여 저장합니다. \n",
    "X = Data_set[:, 0:17]\n",
    "Y = Data_set[:,17]\n",
    "\n",
    "# 딥러닝 구조를 결정합니다.\n",
    "model = Sequential()\n",
    "model.add(Dense(30, input_dim = 17, activation = 'relu'))\n",
    "model.add(Dense(1, activation = 'sigmoid'))\n",
    "\n",
    "# 딥러닝을 실행합니다.\n",
    "model.compile(loss = 'binary_crossentropy', optimizer = 'adam', metrics = ['accuracy'])\n",
    "results = model.fit(X,Y, epochs = 100, batch_size = 10)"
   ]
  },
  {
   "cell_type": "code",
   "execution_count": 32,
   "id": "d41f8227",
   "metadata": {
    "ExecuteTime": {
     "end_time": "2022-08-02T01:53:42.312022Z",
     "start_time": "2022-08-02T01:53:42.294990Z"
    }
   },
   "outputs": [],
   "source": [
    "loss = results.history['loss']\n",
    "accuracy = results.history['accuracy']"
   ]
  },
  {
   "cell_type": "code",
   "execution_count": 34,
   "id": "1cb558c8",
   "metadata": {
    "ExecuteTime": {
     "end_time": "2022-08-02T01:55:26.879056Z",
     "start_time": "2022-08-02T01:55:24.214196Z"
    }
   },
   "outputs": [
    {
     "data": {
      "image/png": "[encoded data removed]",
      "text/plain": [
       "<Figure size 432x288 with 1 Axes>"
      ]
     },
     "metadata": {
      "needs_background": "light"
     },
     "output_type": "display_data"
    }
   ],
   "source": [
    "import matplotlib.pyplot as plt\n",
    "plt.plot(loss)\n",
    "plt.plot(accuracy)\n",
    "plt.show()"
   ]
  },
  {
   "cell_type": "code",
   "execution_count": 35,
   "id": "68d0aca6",
   "metadata": {
    "ExecuteTime": {
     "end_time": "2022-08-02T02:27:51.863509Z",
     "start_time": "2022-08-02T02:27:27.110204Z"
    }
   },
   "outputs": [
    {
     "name": "stdout",
     "output_type": "stream",
     "text": [
      "Epoch 1/30\n",
      "200/200 [==============================] - 1s 2ms/step - loss: 3.0113 - mse: 3.0113\n",
      "Epoch 2/30\n",
      "200/200 [==============================] - 1s 3ms/step - loss: 0.2697 - mse: 0.2697\n",
      "Epoch 3/30\n",
      "200/200 [==============================] - 1s 4ms/step - loss: 0.2420 - mse: 0.2420\n",
      "Epoch 4/30\n",
      "200/200 [==============================] - 1s 4ms/step - loss: 0.2136 - mse: 0.2136\n",
      "Epoch 5/30\n",
      "200/200 [==============================] - 1s 3ms/step - loss: 0.1900 - mse: 0.1900\n",
      "Epoch 6/30\n",
      "200/200 [==============================] - 0s 2ms/step - loss: 0.1723 - mse: 0.1723\n",
      "Epoch 7/30\n",
      "200/200 [==============================] - 1s 3ms/step - loss: 0.1522 - mse: 0.1522\n",
      "Epoch 8/30\n",
      "200/200 [==============================] - 1s 4ms/step - loss: 0.1437 - mse: 0.1437\n",
      "Epoch 9/30\n",
      "200/200 [==============================] - 1s 5ms/step - loss: 0.1346 - mse: 0.1346\n",
      "Epoch 10/30\n",
      "200/200 [==============================] - 1s 5ms/step - loss: 0.1248 - mse: 0.1248\n",
      "Epoch 11/30\n",
      "200/200 [==============================] - 1s 5ms/step - loss: 0.1183 - mse: 0.1183\n",
      "Epoch 12/30\n",
      "200/200 [==============================] - 1s 5ms/step - loss: 0.1117 - mse: 0.1117\n",
      "Epoch 13/30\n",
      "200/200 [==============================] - 1s 5ms/step - loss: 0.1069 - mse: 0.1069\n",
      "Epoch 14/30\n",
      "200/200 [==============================] - 1s 5ms/step - loss: 0.1068 - mse: 0.1068\n",
      "Epoch 15/30\n",
      "200/200 [==============================] - 1s 3ms/step - loss: 0.1020 - mse: 0.1020\n",
      "Epoch 16/30\n",
      "200/200 [==============================] - 1s 4ms/step - loss: 0.1002 - mse: 0.1002\n",
      "Epoch 17/30\n",
      "200/200 [==============================] - 1s 5ms/step - loss: 0.0981 - mse: 0.0981\n",
      "Epoch 18/30\n",
      "200/200 [==============================] - 1s 4ms/step - loss: 0.0977 - mse: 0.0977\n",
      "Epoch 19/30\n",
      "200/200 [==============================] - 1s 4ms/step - loss: 0.0937 - mse: 0.0937\n",
      "Epoch 20/30\n",
      "200/200 [==============================] - 1s 4ms/step - loss: 0.0959 - mse: 0.0959\n",
      "Epoch 21/30\n",
      "200/200 [==============================] - 1s 4ms/step - loss: 0.0932 - mse: 0.0932\n",
      "Epoch 22/30\n",
      "200/200 [==============================] - 1s 5ms/step - loss: 0.0927 - mse: 0.0927\n",
      "Epoch 23/30\n",
      "200/200 [==============================] - 0s 2ms/step - loss: 0.0918 - mse: 0.0918\n",
      "Epoch 24/30\n",
      "200/200 [==============================] - 1s 3ms/step - loss: 0.0919 - mse: 0.0919\n",
      "Epoch 25/30\n",
      "200/200 [==============================] - 1s 5ms/step - loss: 0.0913 - mse: 0.0913\n",
      "Epoch 26/30\n",
      "200/200 [==============================] - 1s 5ms/step - loss: 0.0902 - mse: 0.0902\n",
      "Epoch 27/30\n",
      "200/200 [==============================] - 1s 3ms/step - loss: 0.0917 - mse: 0.0917\n",
      "Epoch 28/30\n",
      "200/200 [==============================] - 1s 3ms/step - loss: 0.0892 - mse: 0.0892\n",
      "Epoch 29/30\n",
      "200/200 [==============================] - 1s 3ms/step - loss: 0.0908 - mse: 0.0908\n",
      "Epoch 30/30\n",
      "200/200 [==============================] - 1s 4ms/step - loss: 0.0911 - mse: 0.0911\n",
      "7/7 [==============================] - 0s 2ms/step\n"
     ]
    },
    {
     "data": {
      "image/png": "[encoded data removed]",
      "text/plain": [
       "<Figure size 432x288 with 1 Axes>"
      ]
     },
     "metadata": {
      "needs_background": "light"
     },
     "output_type": "display_data"
    }
   ],
   "source": [
    "import tensorflow as tf\n",
    "import numpy as np\n",
    "import matplotlib.pyplot as plt\n",
    "\n",
    "# 가상적인 데이터 생성\n",
    "X = data = np.linspace(1,2,200)   # 시작값 = 1, 종료값=2, 개수=200\n",
    "y = X*4 + np.random.randn(200) * 0.3  # X를 4배로 하고 편차 0.3정도의 가우시안 잡음 추가\n",
    "\n",
    "model = tf.keras.models.Sequential()\n",
    "model.add(tf.keras.layers.Dense(1, input_dim=1, activation ='linear'))\n",
    "model.compile(optimizer='sgd', loss='mse' , metrics=['mse'])\n",
    "model.fit(X,y,batch_size=1, epochs=30)\n",
    "\n",
    "predict = model.predict(data)\n",
    "\n",
    "plt.plot(data, predict, 'b', data, y, 'k.') # 첫번째 그래프는 파란색 마커로\n",
    "plt.show()\n",
    "# 두번째 그래프는 검정색으로 그린다. "
   ]
  },
  {
   "cell_type": "code",
   "execution_count": null,
   "id": "3fb043fb",
   "metadata": {},
   "outputs": [],
   "source": [
    "import tensorflow as tf\n",
    "import numpy as np\n",
    "import matplotlib.pyplot as plt\n",
    "\n",
    "# 가상적인 데이터 생성\n",
    "X = data = np.linspace(1,2,200)    #시작값 =1, 종료값=2, 개수=200\n",
    "y = X*4 + np.random.randomn(200) * 0.3\n",
    "\n"
   ]
  }
 ],
 "metadata": {
  "kernelspec": {
   "display_name": "Python 3 (ipykernel)",
   "language": "python",
   "name": "python3"
  },
  "language_info": {
   "codemirror_mode": {
    "name": "ipython",
    "version": 3
   },
   "file_extension": ".py",
   "mimetype": "text/x-python",
   "name": "python",
   "nbconvert_exporter": "python",
   "pygments_lexer": "ipython3",
   "version": "3.9.13"
  },
  "toc": {
   "base_numbering": 1,
   "nav_menu": {},
   "number_sections": true,
   "sideBar": true,
   "skip_h1_title": false,
   "title_cell": "Table of Contents",
   "title_sidebar": "Contents",
   "toc_cell": false,
   "toc_position": {},
   "toc_section_display": true,
   "toc_window_display": false
  }
 },
 "nbformat": 4,
 "nbformat_minor": 5
}
