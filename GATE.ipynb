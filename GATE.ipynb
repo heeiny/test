{
 "cells": [
  {
   "cell_type": "code",
   "execution_count": 2,
   "id": "0ea5d5f4",
   "metadata": {
    "ExecuteTime": {
     "end_time": "2022-08-05T00:40:41.159540Z",
     "start_time": "2022-08-05T00:40:41.142805Z"
    }
   },
   "outputs": [],
   "source": [
    "import numpy as np\n",
    "\n",
    "# 가중치와 바이어스\n",
    "w11 = np.array([-2, -2])\n",
    "w12 = np.array([2,2])\n",
    "w2 = np.array([1,1])\n",
    "\n",
    "b1 = 3\n",
    "b2 = -1\n",
    "b3 = -1"
   ]
  },
  {
   "cell_type": "code",
   "execution_count": 3,
   "id": "9da34a41",
   "metadata": {
    "ExecuteTime": {
     "end_time": "2022-08-05T00:41:29.478440Z",
     "start_time": "2022-08-05T00:41:29.467362Z"
    }
   },
   "outputs": [],
   "source": [
    "# 퍼셉트론\n",
    "def MLP(x,w,b):\n",
    "    y = np.sum(w*x) + b\n",
    "    if y <= 0:\n",
    "        return 0\n",
    "    else:\n",
    "        return 1 "
   ]
  },
  {
   "cell_type": "code",
   "execution_count": 5,
   "id": "4fa96b69",
   "metadata": {
    "ExecuteTime": {
     "end_time": "2022-08-05T00:48:36.917548Z",
     "start_time": "2022-08-05T00:48:36.895715Z"
    }
   },
   "outputs": [],
   "source": [
    "# NAND 게이트\n",
    "def NAND(x1,x2):\n",
    "    return MLP(np.array([x1,x2]), w11, b1)\n",
    "\n",
    "# OR 게이트\n",
    "def OR(x1,x2):\n",
    "    return MLP(np.array([x1,x2]), w12, b2 )\n",
    "\n",
    "# AND 게이트 \n",
    "def AND(x1,x2):\n",
    "    return MLP(np.array([x1,x2]), w2,b3)\n",
    "\n",
    "# XOR게이트\n",
    "def XOR(x1,x2):\n",
    "    return AND(NAND(x1,x2), OR(x1,x2))"
   ]
  },
  {
   "cell_type": "code",
   "execution_count": 6,
   "id": "af8e262c",
   "metadata": {
    "ExecuteTime": {
     "end_time": "2022-08-05T00:48:48.783717Z",
     "start_time": "2022-08-05T00:48:48.769513Z"
    }
   },
   "outputs": [],
   "source": [
    "# x1,x2값을 번갈아 대입해 가며 최종값 출력"
   ]
  },
  {
   "cell_type": "code",
   "execution_count": null,
   "id": "795f9332",
   "metadata": {},
   "outputs": [],
   "source": []
  }
 ],
 "metadata": {
  "kernelspec": {
   "display_name": "Python 3 (ipykernel)",
   "language": "python",
   "name": "python3"
  },
  "language_info": {
   "codemirror_mode": {
    "name": "ipython",
    "version": 3
   },
   "file_extension": ".py",
   "mimetype": "text/x-python",
   "name": "python",
   "nbconvert_exporter": "python",
   "pygments_lexer": "ipython3",
   "version": "3.9.13"
  },
  "toc": {
   "base_numbering": 1,
   "nav_menu": {},
   "number_sections": true,
   "sideBar": true,
   "skip_h1_title": false,
   "title_cell": "Table of Contents",
   "title_sidebar": "Contents",
   "toc_cell": false,
   "toc_position": {},
   "toc_section_display": true,
   "toc_window_display": false
  }
 },
 "nbformat": 4,
 "nbformat_minor": 5
}
