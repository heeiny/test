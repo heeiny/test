{
 "cells": [
  {
   "cell_type": "markdown",
   "id": "7840dcb7",
   "metadata": {},
   "source": [
    "## "
   ]
  },
  {
   "cell_type": "markdown",
   "id": "d98fffbb",
   "metadata": {
    "ExecuteTime": {
     "end_time": "2022-08-05T05:24:05.864467Z",
     "start_time": "2022-08-05T05:24:05.840532Z"
    }
   },
   "source": [
    "dataset/ThoraricSurgery.csv"
   ]
  },
  {
   "cell_type": "markdown",
   "id": "3cd968c1",
   "metadata": {},
   "source": [
    "17개를 column(input_dim = 17),  R행은 class가 1 \n",
    "첫번째 input layer= 30개, activatio function='relu', 출력층 0,1 2개(activation = sigmoid) "
   ]
  },
  {
   "cell_type": "code",
   "execution_count": 18,
   "id": "e6658959",
   "metadata": {
    "ExecuteTime": {
     "end_time": "2022-08-05T05:17:13.698708Z",
     "start_time": "2022-08-05T05:17:13.686752Z"
    }
   },
   "outputs": [],
   "source": [
    "import numpy as np\n",
    "import tensorflow as tf\n",
    "from tensorflow import keras"
   ]
  },
  {
   "cell_type": "code",
   "execution_count": 31,
   "id": "3c935b9b",
   "metadata": {
    "ExecuteTime": {
     "end_time": "2022-08-05T05:41:25.644251Z",
     "start_time": "2022-08-05T05:41:01.177545Z"
    }
   },
   "outputs": [
    {
     "name": "stdout",
     "output_type": "stream",
     "text": [
      "Epoch 1/100\n",
      "47/47 [==============================] - 2s 8ms/step - loss: 0.6482 - accuracy: 0.8128\n",
      "Epoch 2/100\n",
      "47/47 [==============================] - 0s 7ms/step - loss: 0.4890 - accuracy: 0.8468\n",
      "Epoch 3/100\n",
      "47/47 [==============================] - 0s 8ms/step - loss: 0.4416 - accuracy: 0.8511\n",
      "Epoch 4/100\n",
      "47/47 [==============================] - 0s 5ms/step - loss: 0.4863 - accuracy: 0.8489\n",
      "Epoch 5/100\n",
      "47/47 [==============================] - 0s 3ms/step - loss: 0.4430 - accuracy: 0.8532\n",
      "Epoch 6/100\n",
      "47/47 [==============================] - 0s 6ms/step - loss: 0.4303 - accuracy: 0.8532\n",
      "Epoch 7/100\n",
      "47/47 [==============================] - 0s 8ms/step - loss: 0.4421 - accuracy: 0.8511\n",
      "Epoch 8/100\n",
      "47/47 [==============================] - 0s 7ms/step - loss: 0.4363 - accuracy: 0.8489\n",
      "Epoch 9/100\n",
      "47/47 [==============================] - 0s 5ms/step - loss: 0.4165 - accuracy: 0.8489\n",
      "Epoch 10/100\n",
      "47/47 [==============================] - 0s 3ms/step - loss: 0.4317 - accuracy: 0.8489\n",
      "Epoch 11/100\n",
      "47/47 [==============================] - 0s 4ms/step - loss: 0.4458 - accuracy: 0.8489\n",
      "Epoch 12/100\n",
      "47/47 [==============================] - 0s 4ms/step - loss: 0.4384 - accuracy: 0.8532\n",
      "Epoch 13/100\n",
      "47/47 [==============================] - 0s 4ms/step - loss: 0.4651 - accuracy: 0.8532\n",
      "Epoch 14/100\n",
      "47/47 [==============================] - 0s 3ms/step - loss: 0.4475 - accuracy: 0.8319\n",
      "Epoch 15/100\n",
      "47/47 [==============================] - 0s 5ms/step - loss: 0.4934 - accuracy: 0.8255\n",
      "Epoch 16/100\n",
      "47/47 [==============================] - 0s 7ms/step - loss: 0.4472 - accuracy: 0.8447\n",
      "Epoch 17/100\n",
      "47/47 [==============================] - 0s 4ms/step - loss: 0.4747 - accuracy: 0.8383\n",
      "Epoch 18/100\n",
      "47/47 [==============================] - 0s 5ms/step - loss: 0.4488 - accuracy: 0.8468\n",
      "Epoch 19/100\n",
      "47/47 [==============================] - 0s 5ms/step - loss: 0.4407 - accuracy: 0.8511\n",
      "Epoch 20/100\n",
      "47/47 [==============================] - 0s 4ms/step - loss: 0.4380 - accuracy: 0.8511\n",
      "Epoch 21/100\n",
      "47/47 [==============================] - 0s 4ms/step - loss: 0.4331 - accuracy: 0.8532\n",
      "Epoch 22/100\n",
      "47/47 [==============================] - 0s 5ms/step - loss: 0.4242 - accuracy: 0.8511\n",
      "Epoch 23/100\n",
      "47/47 [==============================] - 0s 4ms/step - loss: 0.4183 - accuracy: 0.8532\n",
      "Epoch 24/100\n",
      "47/47 [==============================] - 0s 4ms/step - loss: 0.4303 - accuracy: 0.8489\n",
      "Epoch 25/100\n",
      "47/47 [==============================] - 0s 4ms/step - loss: 0.4246 - accuracy: 0.8511\n",
      "Epoch 26/100\n",
      "47/47 [==============================] - 0s 4ms/step - loss: 0.4335 - accuracy: 0.8532\n",
      "Epoch 27/100\n",
      "47/47 [==============================] - 0s 5ms/step - loss: 0.4492 - accuracy: 0.8383\n",
      "Epoch 28/100\n",
      "47/47 [==============================] - 0s 4ms/step - loss: 0.4241 - accuracy: 0.8532\n",
      "Epoch 29/100\n",
      "47/47 [==============================] - 0s 3ms/step - loss: 0.4212 - accuracy: 0.8532\n",
      "Epoch 30/100\n",
      "47/47 [==============================] - 0s 3ms/step - loss: 0.4136 - accuracy: 0.8511\n",
      "Epoch 31/100\n",
      "47/47 [==============================] - 0s 4ms/step - loss: 0.4389 - accuracy: 0.8511\n",
      "Epoch 32/100\n",
      "47/47 [==============================] - 0s 4ms/step - loss: 0.4188 - accuracy: 0.8553\n",
      "Epoch 33/100\n",
      "47/47 [==============================] - 0s 5ms/step - loss: 0.4428 - accuracy: 0.8532\n",
      "Epoch 34/100\n",
      "47/47 [==============================] - 0s 5ms/step - loss: 0.4103 - accuracy: 0.8489\n",
      "Epoch 35/100\n",
      "47/47 [==============================] - 0s 5ms/step - loss: 0.4178 - accuracy: 0.8489\n",
      "Epoch 36/100\n",
      "47/47 [==============================] - 0s 6ms/step - loss: 0.4136 - accuracy: 0.8532\n",
      "Epoch 37/100\n",
      "47/47 [==============================] - 0s 5ms/step - loss: 0.4429 - accuracy: 0.8511\n",
      "Epoch 38/100\n",
      "47/47 [==============================] - 0s 5ms/step - loss: 0.4258 - accuracy: 0.8489\n",
      "Epoch 39/100\n",
      "47/47 [==============================] - 0s 5ms/step - loss: 0.4714 - accuracy: 0.8319\n",
      "Epoch 40/100\n",
      "47/47 [==============================] - 0s 5ms/step - loss: 0.4041 - accuracy: 0.8574\n",
      "Epoch 41/100\n",
      "47/47 [==============================] - 0s 4ms/step - loss: 0.4210 - accuracy: 0.8511\n",
      "Epoch 42/100\n",
      "47/47 [==============================] - 0s 4ms/step - loss: 0.4418 - accuracy: 0.8447\n",
      "Epoch 43/100\n",
      "47/47 [==============================] - 0s 3ms/step - loss: 0.4096 - accuracy: 0.8511\n",
      "Epoch 44/100\n",
      "47/47 [==============================] - 0s 3ms/step - loss: 0.4032 - accuracy: 0.8511\n",
      "Epoch 45/100\n",
      "47/47 [==============================] - 0s 3ms/step - loss: 0.4067 - accuracy: 0.8532\n",
      "Epoch 46/100\n",
      "47/47 [==============================] - 0s 3ms/step - loss: 0.4030 - accuracy: 0.8532\n",
      "Epoch 47/100\n",
      "47/47 [==============================] - 0s 4ms/step - loss: 0.4132 - accuracy: 0.8447\n",
      "Epoch 48/100\n",
      "47/47 [==============================] - 0s 3ms/step - loss: 0.4026 - accuracy: 0.8532\n",
      "Epoch 49/100\n",
      "47/47 [==============================] - 0s 5ms/step - loss: 0.4082 - accuracy: 0.8511\n",
      "Epoch 50/100\n",
      "47/47 [==============================] - 0s 5ms/step - loss: 0.4097 - accuracy: 0.8511\n",
      "Epoch 51/100\n",
      "47/47 [==============================] - 0s 6ms/step - loss: 0.4124 - accuracy: 0.8532\n",
      "Epoch 52/100\n",
      "47/47 [==============================] - 0s 4ms/step - loss: 0.3972 - accuracy: 0.8553\n",
      "Epoch 53/100\n",
      "47/47 [==============================] - 0s 4ms/step - loss: 0.4128 - accuracy: 0.8489\n",
      "Epoch 54/100\n",
      "47/47 [==============================] - 0s 4ms/step - loss: 0.4073 - accuracy: 0.8468\n",
      "Epoch 55/100\n",
      "47/47 [==============================] - 0s 4ms/step - loss: 0.4110 - accuracy: 0.8532\n",
      "Epoch 56/100\n",
      "47/47 [==============================] - 0s 6ms/step - loss: 0.3921 - accuracy: 0.8532\n",
      "Epoch 57/100\n",
      "47/47 [==============================] - 0s 6ms/step - loss: 0.4091 - accuracy: 0.8532\n",
      "Epoch 58/100\n",
      "47/47 [==============================] - 0s 7ms/step - loss: 0.3995 - accuracy: 0.8574\n",
      "Epoch 59/100\n",
      "47/47 [==============================] - 0s 4ms/step - loss: 0.3985 - accuracy: 0.8532\n",
      "Epoch 60/100\n",
      "47/47 [==============================] - 0s 3ms/step - loss: 0.3899 - accuracy: 0.8574\n",
      "Epoch 61/100\n",
      "47/47 [==============================] - 0s 3ms/step - loss: 0.4041 - accuracy: 0.8553\n",
      "Epoch 62/100\n",
      "47/47 [==============================] - 0s 3ms/step - loss: 0.4246 - accuracy: 0.8468\n",
      "Epoch 63/100\n",
      "47/47 [==============================] - 0s 5ms/step - loss: 0.4068 - accuracy: 0.8532\n",
      "Epoch 64/100\n",
      "47/47 [==============================] - 0s 4ms/step - loss: 0.4318 - accuracy: 0.8511\n",
      "Epoch 65/100\n",
      "47/47 [==============================] - 0s 5ms/step - loss: 0.3902 - accuracy: 0.8553\n",
      "Epoch 66/100\n",
      "47/47 [==============================] - 0s 4ms/step - loss: 0.4312 - accuracy: 0.8511\n",
      "Epoch 67/100\n",
      "47/47 [==============================] - 0s 3ms/step - loss: 0.4164 - accuracy: 0.8489\n",
      "Epoch 68/100\n",
      "47/47 [==============================] - 0s 5ms/step - loss: 0.4090 - accuracy: 0.8511\n",
      "Epoch 69/100\n",
      "47/47 [==============================] - 0s 6ms/step - loss: 0.4020 - accuracy: 0.8511\n",
      "Epoch 70/100\n",
      "47/47 [==============================] - 0s 6ms/step - loss: 0.3986 - accuracy: 0.8574\n",
      "Epoch 71/100\n",
      "47/47 [==============================] - 0s 4ms/step - loss: 0.4027 - accuracy: 0.8511\n",
      "Epoch 72/100\n",
      "47/47 [==============================] - 0s 4ms/step - loss: 0.4196 - accuracy: 0.8340\n",
      "Epoch 73/100\n",
      "47/47 [==============================] - 0s 3ms/step - loss: 0.4019 - accuracy: 0.8532\n",
      "Epoch 74/100\n",
      "47/47 [==============================] - 0s 4ms/step - loss: 0.3907 - accuracy: 0.8553\n",
      "Epoch 75/100\n",
      "47/47 [==============================] - 0s 4ms/step - loss: 0.3890 - accuracy: 0.8553\n",
      "Epoch 76/100\n",
      "47/47 [==============================] - 0s 5ms/step - loss: 0.4077 - accuracy: 0.8553\n",
      "Epoch 77/100\n",
      "47/47 [==============================] - 0s 4ms/step - loss: 0.4178 - accuracy: 0.8426\n",
      "Epoch 78/100\n",
      "47/47 [==============================] - 0s 3ms/step - loss: 0.4080 - accuracy: 0.8553\n",
      "Epoch 79/100\n",
      "47/47 [==============================] - 0s 4ms/step - loss: 0.4148 - accuracy: 0.8426\n",
      "Epoch 80/100\n",
      "47/47 [==============================] - 0s 3ms/step - loss: 0.4019 - accuracy: 0.8468\n",
      "Epoch 81/100\n",
      "47/47 [==============================] - 0s 4ms/step - loss: 0.4057 - accuracy: 0.8532\n",
      "Epoch 82/100\n",
      "47/47 [==============================] - 0s 3ms/step - loss: 0.4184 - accuracy: 0.8489\n",
      "Epoch 83/100\n"
     ]
    },
    {
     "name": "stdout",
     "output_type": "stream",
     "text": [
      "47/47 [==============================] - 0s 3ms/step - loss: 0.3944 - accuracy: 0.8532\n",
      "Epoch 84/100\n",
      "47/47 [==============================] - 0s 6ms/step - loss: 0.4345 - accuracy: 0.8468\n",
      "Epoch 85/100\n",
      "47/47 [==============================] - 0s 6ms/step - loss: 0.4050 - accuracy: 0.8489\n",
      "Epoch 86/100\n",
      "47/47 [==============================] - 0s 6ms/step - loss: 0.3922 - accuracy: 0.8489\n",
      "Epoch 87/100\n",
      "47/47 [==============================] - 0s 6ms/step - loss: 0.3976 - accuracy: 0.8511\n",
      "Epoch 88/100\n",
      "47/47 [==============================] - 0s 6ms/step - loss: 0.3966 - accuracy: 0.8468\n",
      "Epoch 89/100\n",
      "47/47 [==============================] - 0s 6ms/step - loss: 0.3886 - accuracy: 0.8468\n",
      "Epoch 90/100\n",
      "47/47 [==============================] - 0s 6ms/step - loss: 0.3965 - accuracy: 0.8596\n",
      "Epoch 91/100\n",
      "47/47 [==============================] - 0s 6ms/step - loss: 0.4220 - accuracy: 0.8532\n",
      "Epoch 92/100\n",
      "47/47 [==============================] - 0s 3ms/step - loss: 0.4198 - accuracy: 0.8489\n",
      "Epoch 93/100\n",
      "47/47 [==============================] - 0s 3ms/step - loss: 0.3953 - accuracy: 0.8511\n",
      "Epoch 94/100\n",
      "47/47 [==============================] - 0s 3ms/step - loss: 0.3871 - accuracy: 0.8489\n",
      "Epoch 95/100\n",
      "47/47 [==============================] - 0s 6ms/step - loss: 0.3864 - accuracy: 0.8574\n",
      "Epoch 96/100\n",
      "47/47 [==============================] - 0s 7ms/step - loss: 0.4229 - accuracy: 0.8426\n",
      "Epoch 97/100\n",
      "47/47 [==============================] - 0s 6ms/step - loss: 0.4149 - accuracy: 0.8447\n",
      "Epoch 98/100\n",
      "47/47 [==============================] - 0s 6ms/step - loss: 0.3857 - accuracy: 0.8596\n",
      "Epoch 99/100\n",
      "47/47 [==============================] - 0s 4ms/step - loss: 0.4051 - accuracy: 0.8532\n",
      "Epoch 100/100\n",
      "47/47 [==============================] - 0s 4ms/step - loss: 0.3832 - accuracy: 0.8468\n"
     ]
    },
    {
     "data": {
      "text/plain": [
       "<keras.callbacks.History at 0x1ce43b8f5e0>"
      ]
     },
     "execution_count": 31,
     "metadata": {},
     "output_type": "execute_result"
    }
   ],
   "source": [
    "# 딥러닝을 구동하는데 필요한 케라스 함수를 불러옵니다.\n",
    "from tensorflow.keras.models import Sequential\n",
    "from tensorflow.keras.layers import Dense\n",
    "\n",
    "# 필요한 라이브러리를 불러옵니다.\n",
    "import numpy as np\n",
    "import tensorflow as tf\n",
    "\n",
    "# 실행할 때 마다 같은 결과를 출력하기 위해 설정하는 부분입니다. \n",
    "np.random.seed(3)\n",
    "tf.random.set_seed(3)\n",
    "\n",
    "# 준비된 수술 환자 데이터를 불러들입니다.\n",
    "Data_set = np.loadtxt(\"../deep learning/ThoraricSurgery.csv\",delimiter=\",\")\n",
    "\n",
    "# 환자의 기록과 수술 결과를 x와 y로 구분하여 저장합니다.\n",
    "X = Data_set[:,0:17]\n",
    "Y = Data_set[:,17]\n",
    "\n",
    "# 딥러닝 구조를 결정합니다(모델을 설정하고 실행하는 부분입니다)\n",
    "model = Sequential()\n",
    "model.add(Dense(30, input_dim =17, activation = 'relu'))\n",
    "model.add(Dense(1,activation = 'sigmoid'))\n",
    "\n",
    "# 딥러닝을 실행합니다.\n",
    "model.compile(loss = 'binary_crossentropy', optimizer = 'adam', metrics=['accuracy'])\n",
    "model.fit(X,Y,epochs=100, batch_size=10)"
   ]
  },
  {
   "cell_type": "code",
   "execution_count": 20,
   "id": "16bb564e",
   "metadata": {
    "ExecuteTime": {
     "end_time": "2022-08-05T05:17:55.300925Z",
     "start_time": "2022-08-05T05:17:55.260038Z"
    }
   },
   "outputs": [
    {
     "ename": "NameError",
     "evalue": "name 'sgd' is not defined",
     "output_type": "error",
     "traceback": [
      "\u001b[1;31m---------------------------------------------------------------------------\u001b[0m",
      "\u001b[1;31mNameError\u001b[0m                                 Traceback (most recent call last)",
      "Input \u001b[1;32mIn [20]\u001b[0m, in \u001b[0;36m<cell line: 1>\u001b[1;34m()\u001b[0m\n\u001b[1;32m----> 1\u001b[0m model\u001b[38;5;241m.\u001b[39mcompile(loss\u001b[38;5;241m=\u001b[39m\u001b[38;5;124m'\u001b[39m\u001b[38;5;124mcategorical_crossentropy\u001b[39m\u001b[38;5;124m'\u001b[39m, optimizer\u001b[38;5;241m=\u001b[39m\u001b[43msgd\u001b[49m, metrics\u001b[38;5;241m=\u001b[39m[\u001b[38;5;124m'\u001b[39m\u001b[38;5;124maccuracy\u001b[39m\u001b[38;5;124m'\u001b[39m])\n",
      "\u001b[1;31mNameError\u001b[0m: name 'sgd' is not defined"
     ]
    }
   ],
   "source": [
    "model.compile(loss='categorical_crossentropy', optimizer=sgd, metrics=['accuracy'])"
   ]
  },
  {
   "cell_type": "code",
   "execution_count": 27,
   "id": "faad6816",
   "metadata": {
    "ExecuteTime": {
     "end_time": "2022-08-05T05:23:04.665138Z",
     "start_time": "2022-08-05T05:23:01.262786Z"
    }
   },
   "outputs": [
    {
     "name": "stdout",
     "output_type": "stream",
     "text": [
      "Requirement already satisfied: matplotlib in c:\\users\\user\\appdata\\local\\programs\\python\\python39\\lib\\site-packages (3.5.2)\n",
      "Requirement already satisfied: kiwisolver>=1.0.1 in c:\\users\\user\\appdata\\local\\programs\\python\\python39\\lib\\site-packages (from matplotlib) (1.4.2)\n",
      "Requirement already satisfied: cycler>=0.10 in c:\\users\\user\\appdata\\local\\programs\\python\\python39\\lib\\site-packages (from matplotlib) (0.11.0)\n",
      "Requirement already satisfied: fonttools>=4.22.0 in c:\\users\\user\\appdata\\local\\programs\\python\\python39\\lib\\site-packages (from matplotlib) (4.33.3)\n",
      "Requirement already satisfied: pyparsing>=2.2.1 in c:\\users\\user\\appdata\\local\\programs\\python\\python39\\lib\\site-packages (from matplotlib) (3.0.9)\n",
      "Requirement already satisfied: python-dateutil>=2.7 in c:\\users\\user\\appdata\\local\\programs\\python\\python39\\lib\\site-packages (from matplotlib) (2.8.2)\n",
      "Requirement already satisfied: numpy>=1.17 in c:\\users\\user\\appdata\\local\\programs\\python\\python39\\lib\\site-packages (from matplotlib) (1.22.4)\n",
      "Requirement already satisfied: packaging>=20.0 in c:\\users\\user\\appdata\\local\\programs\\python\\python39\\lib\\site-packages (from matplotlib) (21.3)\n",
      "Requirement already satisfied: pillow>=6.2.0 in c:\\users\\user\\appdata\\local\\programs\\python\\python39\\lib\\site-packages (from matplotlib) (9.1.1)\n",
      "Requirement already satisfied: six>=1.5 in c:\\users\\user\\appdata\\local\\programs\\python\\python39\\lib\\site-packages (from python-dateutil>=2.7->matplotlib) (1.16.0)\n",
      "Note: you may need to restart the kernel to use updated packages.\n"
     ]
    },
    {
     "name": "stderr",
     "output_type": "stream",
     "text": [
      "\n",
      "[notice] A new release of pip available: 22.2.1 -> 22.2.2\n",
      "[notice] To update, run: python.exe -m pip install --upgrade pip\n"
     ]
    }
   ],
   "source": [
    "pip install matplotlib"
   ]
  },
  {
   "cell_type": "code",
   "execution_count": 28,
   "id": "9c364277",
   "metadata": {
    "ExecuteTime": {
     "end_time": "2022-08-05T05:23:06.942912Z",
     "start_time": "2022-08-05T05:23:06.935929Z"
    }
   },
   "outputs": [],
   "source": [
    "import matplotlib.pyplot as plt \n",
    "import numpy as np "
   ]
  },
  {
   "cell_type": "code",
   "execution_count": 29,
   "id": "62221236",
   "metadata": {
    "ExecuteTime": {
     "end_time": "2022-08-05T05:23:07.614866Z",
     "start_time": "2022-08-05T05:23:07.586939Z"
    }
   },
   "outputs": [
    {
     "ename": "AttributeError",
     "evalue": "module 'matplotlib.pyplot' has no attribute 'plt'",
     "output_type": "error",
     "traceback": [
      "\u001b[1;31m---------------------------------------------------------------------------\u001b[0m",
      "\u001b[1;31mAttributeError\u001b[0m                            Traceback (most recent call last)",
      "Input \u001b[1;32mIn [29]\u001b[0m, in \u001b[0;36m<cell line: 3>\u001b[1;34m()\u001b[0m\n\u001b[0;32m      1\u001b[0m \u001b[38;5;28;01mimport\u001b[39;00m \u001b[38;5;21;01mmatplotlib\u001b[39;00m\u001b[38;5;21;01m.\u001b[39;00m\u001b[38;5;21;01mpyplot\u001b[39;00m \u001b[38;5;28;01mas\u001b[39;00m \u001b[38;5;21;01mplt\u001b[39;00m\n\u001b[1;32m----> 3\u001b[0m \u001b[43mplt\u001b[49m\u001b[38;5;241;43m.\u001b[39;49m\u001b[43mplt\u001b[49m(history\u001b[38;5;241m.\u001b[39mhistory[\u001b[38;5;124m'\u001b[39m\u001b[38;5;124mloss\u001b[39m\u001b[38;5;124m'\u001b[39m])\n\u001b[0;32m      4\u001b[0m plt\u001b[38;5;241m.\u001b[39mplt(history\u001b[38;5;241m.\u001b[39mhistory[\u001b[38;5;124m'\u001b[39m\u001b[38;5;124maccuracy\u001b[39m\u001b[38;5;124m'\u001b[39m])\n\u001b[0;32m      5\u001b[0m plt\u001b[38;5;241m.\u001b[39mshow()\n",
      "\u001b[1;31mAttributeError\u001b[0m: module 'matplotlib.pyplot' has no attribute 'plt'"
     ]
    }
   ],
   "source": [
    "import matplotlib.pyplot as plt\n",
    "\n",
    "plt.plt(history.history['loss'])\n",
    "plt.plt(history.history['accuracy'])\n",
    "plt.show()"
   ]
  },
  {
   "cell_type": "code",
   "execution_count": null,
   "id": "11f467dc",
   "metadata": {},
   "outputs": [],
   "source": []
  }
 ],
 "metadata": {
  "kernelspec": {
   "display_name": "Python 3 (ipykernel)",
   "language": "python",
   "name": "python3"
  },
  "language_info": {
   "codemirror_mode": {
    "name": "ipython",
    "version": 3
   },
   "file_extension": ".py",
   "mimetype": "text/x-python",
   "name": "python",
   "nbconvert_exporter": "python",
   "pygments_lexer": "ipython3",
   "version": "3.9.13"
  },
  "toc": {
   "base_numbering": 1,
   "nav_menu": {},
   "number_sections": true,
   "sideBar": true,
   "skip_h1_title": false,
   "title_cell": "Table of Contents",
   "title_sidebar": "Contents",
   "toc_cell": false,
   "toc_position": {},
   "toc_section_display": true,
   "toc_window_display": false
  }
 },
 "nbformat": 4,
 "nbformat_minor": 5
}
